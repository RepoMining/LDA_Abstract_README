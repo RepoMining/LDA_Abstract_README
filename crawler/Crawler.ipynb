{
 "cells": [
  {
   "cell_type": "code",
   "execution_count": 5,
   "id": "4d91a8eb",
   "metadata": {
    "pycharm": {
     "name": "#%%\n"
    }
   },
   "outputs": [
    {
     "name": "stdout",
     "output_type": "stream",
     "text": [
      "Saving 5 / 133466 README\n",
      "Saving 10 / 133466 README\n",
      "Saving 15 / 133466 README\n",
      "Failed to retrieve README (status code: 404)\n",
      "Saving 20 / 133466 README\n",
      "Saving 25 / 133466 README\n",
      "Unexpected exception formatting exception. Falling back to standard exception\n"
     ]
    },
    {
     "name": "stderr",
     "output_type": "stream",
     "text": [
      "Traceback (most recent call last):\n",
      "  File \"E:\\python\\lib\\site-packages\\IPython\\core\\interactiveshell.py\", line 3442, in run_code\n",
      "    exec(code_obj, self.user_global_ns, self.user_ns)\n",
      "  File \"C:\\Users\\ZLY\\AppData\\Local\\Temp\\ipykernel_21440\\3353185288.py\", line 6, in <module>\n",
      "    error = save_readmes(urls, \"./data/readme_corpus.txt\")\n",
      "  File \"E:\\LDA_Abstract_README\\utils\\__init__.py\", line 94, in save_readmes\n",
      "    doc = 0\n",
      "  File \"E:\\LDA_Abstract_README\\utils\\__init__.py\", line 53, in gen_data\n",
      "    # remove punctuation\n",
      "  File \"E:\\LDA_Abstract_README\\utils\\__init__.py\", line 66, in textPrecessing\n",
      "  File \"E:\\LDA_Abstract_README\\utils\\__init__.py\", line 66, in <listcomp>\n",
      "  File \"E:\\python\\lib\\site-packages\\nltk\\corpus\\reader\\wordlist.py\", line 21, in words\n",
      "    for line in line_tokenize(self.raw(fileids))\n",
      "  File \"E:\\python\\lib\\site-packages\\nltk\\corpus\\reader\\api.py\", line 218, in raw\n",
      "    with self.open(f) as fp:\n",
      "  File \"E:\\python\\lib\\site-packages\\nltk\\corpus\\reader\\api.py\", line 231, in open\n",
      "    stream = self._root.join(file).open(encoding)\n",
      "  File \"E:\\python\\lib\\site-packages\\nltk\\data.py\", line 334, in join\n",
      "    return FileSystemPathPointer(_path)\n",
      "  File \"E:\\python\\lib\\site-packages\\nltk\\compat.py\", line 41, in _decorator\n",
      "    return init_func(*args, **kwargs)\n",
      "  File \"E:\\python\\lib\\site-packages\\nltk\\data.py\", line 311, in __init__\n",
      "    if not os.path.exists(_path):\n",
      "  File \"E:\\python\\lib\\genericpath.py\", line 19, in exists\n",
      "    os.stat(path)\n",
      "KeyboardInterrupt\n",
      "\n",
      "During handling of the above exception, another exception occurred:\n",
      "\n",
      "Traceback (most recent call last):\n",
      "  File \"E:\\python\\lib\\site-packages\\IPython\\core\\interactiveshell.py\", line 2057, in showtraceback\n",
      "    stb = self.InteractiveTB.structured_traceback(\n",
      "  File \"E:\\python\\lib\\site-packages\\IPython\\core\\ultratb.py\", line 1118, in structured_traceback\n",
      "    return FormattedTB.structured_traceback(\n",
      "  File \"E:\\python\\lib\\site-packages\\IPython\\core\\ultratb.py\", line 1012, in structured_traceback\n",
      "    return VerboseTB.structured_traceback(\n",
      "  File \"E:\\python\\lib\\site-packages\\IPython\\core\\ultratb.py\", line 865, in structured_traceback\n",
      "    formatted_exception = self.format_exception_as_a_whole(etype, evalue, etb, number_of_lines_of_context,\n",
      "  File \"E:\\python\\lib\\site-packages\\IPython\\core\\ultratb.py\", line 818, in format_exception_as_a_whole\n",
      "    frames.append(self.format_record(r))\n",
      "  File \"E:\\python\\lib\\site-packages\\IPython\\core\\ultratb.py\", line 736, in format_record\n",
      "    result += ''.join(_format_traceback_lines(frame_info.lines, Colors, self.has_colors, lvals))\n",
      "  File \"E:\\python\\lib\\site-packages\\stack_data\\utils.py\", line 144, in cached_property_wrapper\n",
      "    value = obj.__dict__[self.func.__name__] = self.func(obj)\n",
      "  File \"E:\\python\\lib\\site-packages\\stack_data\\core.py\", line 734, in lines\n",
      "    pieces = self.included_pieces\n",
      "  File \"E:\\python\\lib\\site-packages\\stack_data\\utils.py\", line 144, in cached_property_wrapper\n",
      "    value = obj.__dict__[self.func.__name__] = self.func(obj)\n",
      "  File \"E:\\python\\lib\\site-packages\\stack_data\\core.py\", line 681, in included_pieces\n",
      "    pos = scope_pieces.index(self.executing_piece)\n",
      "  File \"E:\\python\\lib\\site-packages\\stack_data\\utils.py\", line 144, in cached_property_wrapper\n",
      "    value = obj.__dict__[self.func.__name__] = self.func(obj)\n",
      "  File \"E:\\python\\lib\\site-packages\\stack_data\\core.py\", line 660, in executing_piece\n",
      "    return only(\n",
      "  File \"E:\\python\\lib\\site-packages\\executing\\executing.py\", line 190, in only\n",
      "    raise NotOneValueFound('Expected one value, found 0')\n",
      "executing.executing.NotOneValueFound: Expected one value, found 0\n"
     ]
    }
   ],
   "source": [
    "from utils import save_readmes\n",
    "\n",
    "with open(\"../data/github_urls.txt\", \"r\") as f:\n",
    "    urls = f.read()\n",
    "urls = eval(urls)\n",
    "error = save_readmes(urls, \"../data/readme_corpus.txt\")"
   ]
  }
 ],
 "metadata": {
  "kernelspec": {
   "display_name": "Python 3 (ipykernel)",
   "language": "python",
   "name": "python3"
  },
  "language_info": {
   "codemirror_mode": {
    "name": "ipython",
    "version": 3
   },
   "file_extension": ".py",
   "mimetype": "text/x-python",
   "name": "python",
   "nbconvert_exporter": "python",
   "pygments_lexer": "ipython3",
   "version": "3.10.0"
  }
 },
 "nbformat": 4,
 "nbformat_minor": 5
}