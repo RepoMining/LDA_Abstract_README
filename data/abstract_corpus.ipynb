{
 "cells": [
  {
   "cell_type": "code",
   "execution_count": 1,
   "metadata": {
    "collapsed": true
   },
   "outputs": [],
   "source": [
    "textPre_FilePath = \"./abstract_corpus.txt\"\n",
    "from utils import gen_data, save_data\n",
    "\n",
    "with open(\"./abstract_doc_classes.json\") as f:\n",
    "    data = f.read()\n",
    "data = eval(data)\n",
    "content = data.keys()\n",
    "content = list(content)\n",
    "docLst = gen_data(content)\n",
    "save_data(docLst, textPre_FilePath)"
   ]
  },
  {
   "cell_type": "code",
   "execution_count": null,
   "outputs": [],
   "source": [],
   "metadata": {
    "collapsed": false,
    "pycharm": {
     "name": "#%%\n"
    }
   }
  }
 ],
 "metadata": {
  "kernelspec": {
   "display_name": "Python 3",
   "language": "python",
   "name": "python3"
  },
  "language_info": {
   "codemirror_mode": {
    "name": "ipython",
    "version": 2
   },
   "file_extension": ".py",
   "mimetype": "text/x-python",
   "name": "python",
   "nbconvert_exporter": "python",
   "pygments_lexer": "ipython2",
   "version": "2.7.6"
  }
 },
 "nbformat": 4,
 "nbformat_minor": 0
}