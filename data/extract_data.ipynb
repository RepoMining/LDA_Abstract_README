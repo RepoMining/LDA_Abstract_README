{
 "cells": [
  {
   "cell_type": "code",
   "execution_count": 8,
   "metadata": {
    "collapsed": true
   },
   "outputs": [
    {
     "name": "stdout",
     "output_type": "stream",
     "text": [
      "Saved\n"
     ]
    }
   ],
   "source": [
    "import json\n",
    "import utils\n",
    "\n",
    "\n",
    "content = utils.readFile(path=\"./abstracts_repos.json\").replace(\"\\\\n\", \" \").replace(\"\\\\r\", \" \").replace(\"null\", \"None\")\n",
    "repos = eval(content)\n",
    "data = {}\n",
    "urls = []\n",
    "for repo in repos[\"abstracts_repos_full\"]:\n",
    "    data[repo[\"abstract\"]] = repo[\"tasks\"]\n",
    "    urls.append(repo[\"repo_url\"])\n",
    "\n",
    "abstract_data = open(\"./abstract_doc_classes.json\", \"w\")\n",
    "json.dump(data, abstract_data, indent=4)\n",
    "abstract_data.close()\n",
    "\n",
    "with open(\"/github_urls.txt\", \"w\") as f:\n",
    "    f.write(str(urls))\n",
    "\n",
    "print(\"Saved\")"
   ]
  },
  {
   "cell_type": "code",
   "execution_count": null,
   "outputs": [],
   "source": [],
   "metadata": {
    "collapsed": false,
    "pycharm": {
     "name": "#%%\n"
    }
   }
  }
 ],
 "metadata": {
  "kernelspec": {
   "display_name": "Python 3",
   "language": "python",
   "name": "python3"
  },
  "language_info": {
   "codemirror_mode": {
    "name": "ipython",
    "version": 2
   },
   "file_extension": ".py",
   "mimetype": "text/x-python",
   "name": "python",
   "nbconvert_exporter": "python",
   "pygments_lexer": "ipython2",
   "version": "2.7.6"
  }
 },
 "nbformat": 4,
 "nbformat_minor": 0
}