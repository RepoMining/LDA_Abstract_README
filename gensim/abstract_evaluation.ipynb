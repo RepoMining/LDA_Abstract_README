{
 "cells": [
  {
   "cell_type": "code",
   "execution_count": 2,
   "metadata": {
    "collapsed": true
   },
   "outputs": [
    {
     "name": "stdout",
     "output_type": "stream",
     "text": [
      "Python 3.10.0 (tags/v3.10.0:b494f59, Oct  4 2021, 19:00:18) [MSC v.1929 64 bit (AMD64)] on win32\n"
     ]
    },
    {
     "name": "stderr",
     "output_type": "stream",
     "text": [
      "[nltk_data] Downloading package stopwords to E:\\nltk_data...\n",
      "[nltk_data]   Package stopwords is already up-to-date!\n"
     ]
    }
   ],
   "source": [
    "import sys\n",
    "from gensim.utils import simple_preprocess\n",
    "from utils import load_data\n",
    "import gensim\n",
    "from pprint import pprint\n",
    "import spacy\n",
    "import gensim.corpora as corpora\n",
    "from gensim.models import TfidfModel\n",
    "from gensim.models import LdaModel\n",
    "\n",
    "print('Python %s on %s' % (sys.version, sys.platform))\n",
    "sys.path.extend(['E:\\\\LDA_Abstract_README', 'E:/LDA_Abstract_README'])\n",
    "\n",
    "n_topics = [10, 20, 27, 30]\n",
    "n_docs = 10000\n",
    "\n",
    "\n",
    "textPre_FilePath = \"../data/abstract_corpus.txt\"\n",
    "lda_ModelPath = \"./abstract_model/\"\n",
    "\n",
    "\n",
    "def sent_to_words(sentences):\n",
    "    for sentence in sentences:\n",
    "        yield gensim.utils.simple_preprocess(str(sentence), deacc=True)  # deacc=True removes punctuations\n",
    "\n",
    "# Define functions for stopwords, bigrams, trigrams and lemmatization\n",
    "def remove_stopwords(texts):\n",
    "    return [[word for word in simple_preprocess(str(doc)) if word not in stop_words] for doc in texts]\n",
    "\n",
    "def make_bigrams(texts):\n",
    "    return [bigram_mod[doc] for doc in texts]\n",
    "\n",
    "def make_trigrams(texts):\n",
    "    return [trigram_mod[bigram_mod[doc]] for doc in texts]\n",
    "\n",
    "def lemmatization(texts, notAllowed_postags=None):\n",
    "    \"\"\"https://spacy.io/api/annotation\"\"\"\n",
    "    if notAllowed_postags is None:\n",
    "        notAllowed_postags = ['ADJ', 'ADV']\n",
    "    texts_out = []\n",
    "    for sent in texts:\n",
    "        doc = nlp(\" \".join(sent))\n",
    "        texts_out.append([token.lemma_ for token in doc if token.pos_ not in notAllowed_postags])\n",
    "    return texts_out\n",
    "\n",
    "data = load_data(textPre_FilePath)[:n_docs]\n",
    "data_words = list(sent_to_words(data))\n",
    "# Build the bigram and trigram models\n",
    "bigram = gensim.models.Phrases(data_words, min_count=5, threshold=100) # higher threshold fewer phrases.\n",
    "trigram = gensim.models.Phrases(bigram[data_words], threshold=100)\n",
    "\n",
    "# Faster way to get a sentence clubbed as a trigram/bigram\n",
    "bigram_mod = gensim.models.phrases.Phraser(bigram)\n",
    "trigram_mod = gensim.models.phrases.Phraser(trigram)\n",
    "\n",
    "# NLTK Stop words\n",
    "import nltk\n",
    "nltk.download('stopwords')\n",
    "from nltk.corpus import stopwords\n",
    "\n",
    "stop_words = stopwords.words('english')\n",
    "stop_words.extend(['from', 'subject', 're', 'edu', 'use'])\n",
    "# Remove Stop Words\n",
    "data_words_nostops = remove_stopwords(data_words)\n",
    "\n",
    "# Form Bigrams\n",
    "data_words_bigrams = make_bigrams(data_words_nostops)\n",
    "\n",
    "# Initialize spacy 'en' model, keeping only tagger component (for efficiency)\n",
    "nlp = spacy.load(\"en_core_web_sm\", disable=['parser', 'ner'])\n",
    "\n",
    "# Do lemmatization keeping only noun, adj, vb, adv\n",
    "data_lemmatized = lemmatization(data_words_bigrams, notAllowed_postags=['ADJ', 'ADV'])\n",
    "\n",
    "\n",
    "# Create Dictionary\n",
    "id2word = corpora.Dictionary(data_lemmatized)\n",
    "\n",
    "# Create Corpus\n",
    "texts = data_lemmatized\n",
    "\n",
    "# Term Document Frequency\n",
    "corpus = [id2word.doc2bow(text) for text in texts]\n",
    "\n",
    "# 创建TF-IDF模型并应用于整个语料库\n",
    "tfidf_model = TfidfModel(corpus)\n",
    "corpus = tfidf_model[corpus]"
   ]
  },
  {
   "cell_type": "code",
   "execution_count": 3,
   "outputs": [],
   "source": [
    "n_t = 0\n",
    "n_top_words = 10\n",
    "models = []\n",
    "for n_t in n_topics:\n",
    "    lda = LdaModel.load(lda_ModelPath+'lda_abstract'+str(n_t))\n",
    "    models.append(lda)\n"
   ],
   "metadata": {
    "collapsed": false,
    "pycharm": {
     "name": "#%%\n"
    }
   }
  },
  {
   "cell_type": "markdown",
   "source": [
    "# Top words"
   ],
   "metadata": {
    "collapsed": false,
    "pycharm": {
     "name": "#%% md\n"
    }
   }
  },
  {
   "cell_type": "code",
   "execution_count": 11,
   "outputs": [
    {
     "name": "stdout",
     "output_type": "stream",
     "text": [
      "[(0,\n",
      "  '0.011*\"student\" + 0.006*\"teacher\" + 0.005*\"ner\" + 0.004*\"tweet\" + '\n",
      "  '0.004*\"session\" + 0.003*\"gestur\" + 0.003*\"paint\" + 0.003*\"denois\" + '\n",
      "  '0.003*\"reflect\" + 0.003*\"microscopi\"'),\n",
      " (1,\n",
      "  '0.006*\"kg\" + 0.004*\"composition\" + 0.003*\"parti\" + 0.003*\"kb\" + '\n",
      "  '0.003*\"beta\" + 0.003*\"gene\" + 0.003*\"extrapol\" + 0.003*\"centroid\" + '\n",
      "  '0.003*\"slam\" + 0.003*\"gaze\"'),\n",
      " (2,\n",
      "  '0.006*\"equivari\" + 0.005*\"waveform\" + 0.004*\"price\" + 0.004*\"dictionari\" + '\n",
      "  '0.003*\"star\" + 0.002*\"subgroup\" + 0.002*\"doctor\" + 0.002*\"moder\" + '\n",
      "  '0.002*\"turbul\" + 0.002*\"substructur\"'),\n",
      " (3,\n",
      "  '0.004*\"equilibrium\" + 0.003*\"dr\" + 0.003*\"theorem\" + 0.003*\"ct\" + '\n",
      "  '0.003*\"ridg\" + 0.002*\"newton\" + 0.002*\"mcmc\" + 0.002*\"job\" + '\n",
      "  '0.002*\"backdoor\" + 0.002*\"pg\"'),\n",
      " (4,\n",
      "  '0.005*\"protein\" + 0.003*\"gait\" + 0.003*\"pi\" + 0.003*\"genom\" + '\n",
      "  '0.003*\"contact\" + 0.003*\"cd\" + 0.003*\"sde\" + 0.003*\"binar\" + 0.003*\"bn\" + '\n",
      "  '0.002*\"motif\"'),\n",
      " (5,\n",
      "  '0.010*\"registr\" + 0.004*\"simplif\" + 0.004*\"mot\" + 0.003*\"reaction\" + '\n",
      "  '0.003*\"induct\" + 0.003*\"driver\" + 0.003*\"smartphon\" + 0.002*\"load\" + '\n",
      "  '0.002*\"radar\" + 0.002*\"dst\"'),\n",
      " (6,\n",
      "  '0.007*\"caption\" + 0.006*\"summar\" + 0.005*\"review\" + 0.005*\"anomali\" + '\n",
      "  '0.004*\"road\" + 0.004*\"summari\" + 0.004*\"intent\" + 0.003*\"tracker\" + '\n",
      "  '0.003*\"mention\" + 0.003*\"sketch\"'),\n",
      " (7,\n",
      "  '0.003*\"hash\" + 0.003*\"fingerprint\" + 0.003*\"epsilon\" + 0.003*\"hsi\" + '\n",
      "  '0.003*\"homolog\" + 0.003*\"malwar\" + 0.002*\"band\" + 0.002*\"corner\" + '\n",
      "  '0.002*\"cour\" + 0.002*\"bnn\"'),\n",
      " (8,\n",
      "  '0.006*\"model\" + 0.006*\"imag\" + 0.006*\"network\" + 0.005*\"task\" + '\n",
      "  '0.005*\"method\" + 0.005*\"languag\" + 0.005*\"datum\" + 0.004*\"represent\" + '\n",
      "  '0.004*\"featur\" + 0.004*\"approach\"'),\n",
      " (9,\n",
      "  '0.007*\"skeleton\" + 0.006*\"reid\" + 0.005*\"independ\" + 0.003*\"man\" + '\n",
      "  '0.003*\"cgan\" + 0.003*\"ib\" + 0.003*\"quantum_circuit\" + 0.002*\"orthogon\" + '\n",
      "  '0.002*\"ranker\" + 0.002*\"gym\"')]\n",
      "[(0,\n",
      "  '0.009*\"ner\" + 0.008*\"composition\" + 0.007*\"comprehen\" + 0.006*\"price\" + '\n",
      "  '0.006*\"genom\" + 0.005*\"illustr\" + 0.005*\"driver\" + 0.005*\"satisfi\" + '\n",
      "  '0.004*\"confound\" + 0.004*\"metadata\"'),\n",
      " (1,\n",
      "  '0.010*\"session\" + 0.007*\"citat\" + 0.007*\"parti\" + 0.005*\"continu\" + '\n",
      "  '0.004*\"mobilenet\" + 0.004*\"gamma\" + 0.004*\"displac\" + 0.004*\"misinform\" + '\n",
      "  '0.004*\"persona\" + 0.004*\"plastic\"'),\n",
      " (2,\n",
      "  '0.010*\"instrument\" + 0.009*\"surrog\" + 0.007*\"hate_speech\" + '\n",
      "  '0.007*\"dictionari\" + 0.007*\"sampler\" + 0.007*\"curvatur\" + 0.006*\"hash\" + '\n",
      "  '0.005*\"rever\" + 0.005*\"distractor\" + 0.004*\"overview\"'),\n",
      " (3,\n",
      "  '0.014*\"bit\" + 0.011*\"entropi\" + 0.010*\"layout\" + 0.008*\"foundat\" + '\n",
      "  '0.008*\"gpt\" + 0.008*\"tabl\" + 0.006*\"remedi\" + 0.006*\"cgan\" + 0.006*\"mlp\" + '\n",
      "  '0.006*\"hoi\"'),\n",
      " (4,\n",
      "  '0.013*\"salienc\" + 0.012*\"keypoint\" + 0.007*\"edit\" + 0.007*\"corpora\" + '\n",
      "  '0.007*\"player\" + 0.007*\"transcript\" + 0.006*\"bleu\" + 0.006*\"ray\" + '\n",
      "  '0.006*\"failur\" + 0.006*\"cl\"'),\n",
      " (5,\n",
      "  '0.007*\"model\" + 0.007*\"imag\" + 0.007*\"network\" + 0.006*\"task\" + '\n",
      "  '0.006*\"method\" + 0.006*\"languag\" + 0.005*\"datum\" + 0.005*\"represent\" + '\n",
      "  '0.005*\"featur\" + 0.005*\"approach\"'),\n",
      " (6,\n",
      "  '0.009*\"signatur\" + 0.006*\"star\" + 0.006*\"shortcut\" + 0.005*\"sod\" + '\n",
      "  '0.004*\"repair\" + 0.004*\"reddit\" + 0.003*\"modular\" + 0.003*\"bypass\" + '\n",
      "  '0.003*\"svd\" + 0.003*\"priorit\"'),\n",
      " (7,\n",
      "  '0.021*\"emot\" + 0.012*\"sgd\" + 0.007*\"gestur\" + 0.006*\"oracl\" + '\n",
      "  '0.006*\"variant\" + 0.006*\"burden\" + 0.005*\"gradient_descent\" + 0.005*\"db\" + '\n",
      "  '0.005*\"misclassif\" + 0.005*\"cast\"'),\n",
      " (8,\n",
      "  '0.007*\"beam\" + 0.006*\"conflict\" + 0.006*\"bo\" + 0.005*\"greedi\" + 0.005*\"dst\" '\n",
      "  '+ 0.004*\"csi\" + 0.004*\"smartphon\" + 0.004*\"cosin\" + 0.004*\"fragment\" + '\n",
      "  '0.004*\"galleri\"'),\n",
      " (9,\n",
      "  '0.018*\"ood\" + 0.018*\"vit\" + 0.009*\"mot\" + 0.006*\"occup\" + '\n",
      "  '0.006*\"temperatur\" + 0.006*\"band\" + 0.006*\"heatmap\" + 0.005*\"perplex\" + '\n",
      "  '0.005*\"cs\" + 0.004*\"pm\"'),\n",
      " (10,\n",
      "  '0.008*\"proxim\" + 0.007*\"phone\" + 0.006*\"spectrum\" + 0.005*\"consum\" + '\n",
      "  '0.005*\"imageri\" + 0.005*\"devis\" + 0.005*\"command\" + 0.004*\"extend\" + '\n",
      "  '0.004*\"dcnn\" + 0.004*\"satellit\"'),\n",
      " (11,\n",
      "  '0.013*\"protein\" + 0.008*\"paint\" + 0.007*\"cancer\" + 0.005*\"concentr\" + '\n",
      "  '0.004*\"judgement\" + 0.004*\"vl\" + 0.004*\"xai\" + 0.004*\"drug_discoveri\" + '\n",
      "  '0.003*\"symptom\" + 0.003*\"disturb\"'),\n",
      " (12,\n",
      "  '0.011*\"textur\" + 0.011*\"item\" + 0.010*\"restor\" + 0.009*\"decomposit\" + '\n",
      "  '0.009*\"news\" + 0.008*\"client\" + 0.007*\"phrase\" + 0.007*\"viewpoint\" + '\n",
      "  '0.007*\"review\" + 0.007*\"prefer\"'),\n",
      " (13,\n",
      "  '0.011*\"tag\" + 0.010*\"actor\" + 0.009*\"skill\" + 0.008*\"bandit\" + '\n",
      "  '0.008*\"squar\" + 0.008*\"independ\" + 0.007*\"weather\" + 0.006*\"offlin\" + '\n",
      "  '0.006*\"return\" + 0.006*\"harmon\"'),\n",
      " (14,\n",
      "  '0.013*\"intervent\" + 0.008*\"mix\" + 0.007*\"brain_tumor\" + 0.007*\"mnist\" + '\n",
      "  '0.006*\"tail\" + 0.006*\"infrastructur\" + 0.004*\"orthogon\" + 0.004*\"brat\" + '\n",
      "  '0.004*\"carlo\" + 0.004*\"paraphra\"'),\n",
      " (15,\n",
      "  '0.011*\"reid\" + 0.009*\"hierarchi\" + 0.008*\"circuit\" + 0.007*\"capsul\" + '\n",
      "  '0.006*\"dp\" + 0.006*\"fingerprint\" + 0.006*\"ingredi\" + 0.005*\"stack\" + '\n",
      "  '0.005*\"cd\" + 0.005*\"delta\"'),\n",
      " (16,\n",
      "  '0.018*\"quantum\" + 0.013*\"skeleton\" + 0.010*\"imput\" + 0.009*\"note\" + '\n",
      "  '0.007*\"st\" + 0.006*\"post_hoc\" + 0.006*\"batch_normal\" + 0.005*\"scikit\" + '\n",
      "  '0.005*\"bn\" + 0.005*\"quantum_circuit\"'),\n",
      " (17,\n",
      "  '0.007*\"reaction\" + 0.007*\"hypothe\" + 0.007*\"drug\" + 0.006*\"dag\" + '\n",
      "  '0.005*\"ds\" + 0.005*\"protect\" + 0.004*\"pronunci\" + 0.004*\"nat\" + '\n",
      "  '0.003*\"demo\" + 0.003*\"abus\"'),\n",
      " (18,\n",
      "  '0.008*\"criterion\" + 0.008*\"dnn\" + 0.008*\"pseudo\" + 0.008*\"sparsiti\" + '\n",
      "  '0.008*\"defens\" + 0.006*\"convex\" + 0.006*\"instruct\" + 0.006*\"discrimin\" + '\n",
      "  '0.006*\"forecast\" + 0.006*\"rnn\"'),\n",
      " (19,\n",
      "  '0.012*\"lm\" + 0.011*\"kg\" + 0.006*\"kb\" + 0.006*\"column\" + 0.005*\"blur\" + '\n",
      "  '0.005*\"bi\" + 0.005*\"divers\" + 0.005*\"roberta\" + 0.005*\"pressur\" + '\n",
      "  '0.004*\"doctor\"')]\n",
      "[(26,\n",
      "  '0.007*\"model\" + 0.007*\"imag\" + 0.007*\"network\" + 0.006*\"task\" + '\n",
      "  '0.006*\"method\" + 0.006*\"languag\" + 0.006*\"datum\" + 0.005*\"featur\" + '\n",
      "  '0.005*\"represent\" + 0.005*\"approach\"'),\n",
      " (1,\n",
      "  '0.012*\"waveform\" + 0.012*\"composition\" + 0.010*\"tabl\" + 0.008*\"column\" + '\n",
      "  '0.007*\"fingerprint\" + 0.006*\"psnr\" + 0.006*\"continu\" + 0.006*\"infect\" + '\n",
      "  '0.006*\"amr\" + 0.006*\"scratch\"'),\n",
      " (20,\n",
      "  '0.013*\"memor\" + 0.010*\"gestur\" + 0.008*\"compen\" + 0.007*\"scikit\" + '\n",
      "  '0.006*\"kd\" + 0.005*\"abus\" + 0.005*\"mathbf\" + 0.005*\"irm\" + 0.005*\"suscept\" '\n",
      "  '+ 0.004*\"dota\"'),\n",
      " (3,\n",
      "  '0.029*\"rl\" + 0.009*\"molecul\" + 0.009*\"suit\" + 0.009*\"option\" + '\n",
      "  '0.008*\"parameter\" + 0.008*\"script\" + 0.007*\"inver\" + 0.007*\"realiti\" + '\n",
      "  '0.007*\"cancer\" + 0.006*\"sota\"'),\n",
      " (22,\n",
      "  '0.020*\"viewpoint\" + 0.014*\"kg\" + 0.011*\"paint\" + 0.010*\"mlp\" + 0.009*\"eye\" '\n",
      "  '+ 0.007*\"harmon\" + 0.007*\"drl\" + 0.007*\"taxonomi\" + 0.006*\"mr\" + '\n",
      "  '0.006*\"radianc_field\"'),\n",
      " (21,\n",
      "  '0.015*\"person\" + 0.013*\"ct\" + 0.013*\"reid\" + 0.012*\"hop\" + 0.010*\"i\" + '\n",
      "  '0.010*\"ad\" + 0.010*\"d\" + 0.009*\"person_identif\" + 0.008*\"capsul\" + '\n",
      "  '0.007*\"copi\"'),\n",
      " (0,\n",
      "  '0.017*\"norm\" + 0.013*\"imput\" + 0.011*\"cam\" + 0.009*\"curvatur\" + '\n",
      "  '0.008*\"subword\" + 0.006*\"cp\" + 0.006*\"ci\" + 0.005*\"ell\" + 0.005*\"pca\" + '\n",
      "  '0.005*\"sc\"'),\n",
      " (18,\n",
      "  '0.019*\"teacher\" + 0.015*\"sketch\" + 0.012*\"crowd\" + 0.011*\"replay\" + '\n",
      "  '0.010*\"tissu\" + 0.009*\"mot\" + 0.007*\"light\" + 0.007*\"pool\" + 0.006*\"forget\" '\n",
      "  '+ 0.006*\"elimin\"'),\n",
      " (17,\n",
      "  '0.014*\"opinion\" + 0.013*\"comment\" + 0.010*\"comprehen\" + 0.009*\"man\" + '\n",
      "  '0.007*\"band\" + 0.007*\"present\" + 0.007*\"disambigu\" + 0.006*\"dst\" + '\n",
      "  '0.005*\"revis\" + 0.005*\"ranker\"'),\n",
      " (7,\n",
      "  '0.018*\"tag\" + 0.008*\"pi\" + 0.007*\"smartphon\" + 0.006*\"lie\" + 0.006*\"atom\" + '\n",
      "  '0.005*\"glass\" + 0.005*\"terminolog\" + 0.005*\"bird\" + 0.004*\"sa\" + '\n",
      "  '0.004*\"fid\"'),\n",
      " (14,\n",
      "  '0.021*\"attribut\" + 0.020*\"node\" + 0.011*\"tree\" + 0.011*\"shoot\" + '\n",
      "  '0.009*\"messag\" + 0.009*\"learner\" + 0.008*\"composit\" + 0.008*\"evid\" + '\n",
      "  '0.008*\"summari\" + 0.007*\"log\"'),\n",
      " (6,\n",
      "  '0.014*\"explan\" + 0.013*\"style\" + 0.010*\"trajectori\" + 0.008*\"energi\" + '\n",
      "  '0.008*\"textur\" + 0.007*\"calibr\" + 0.007*\"item\" + 0.007*\"guarante\" + '\n",
      "  '0.007*\"align\" + 0.007*\"bodi\"'),\n",
      " (13,\n",
      "  '0.021*\"skeleton\" + 0.012*\"analog\" + 0.010*\"plm\" + 0.010*\"hate_speech\" + '\n",
      "  '0.008*\"ib\" + 0.007*\"play\" + 0.007*\"parallel\" + 0.005*\"softwar_packag\" + '\n",
      "  '0.005*\"plug\" + 0.005*\"analyst\"'),\n",
      " (5,\n",
      "  '0.010*\"wikipedia\" + 0.009*\"star\" + 0.009*\"hoi\" + 0.007*\"read\" + '\n",
      "  '0.007*\"corefer\" + 0.007*\"sde\" + 0.006*\"ascent\" + 0.006*\"failur_mode\" + '\n",
      "  '0.006*\"keystrok\" + 0.005*\"quaternion\"'),\n",
      " (10,\n",
      "  '0.011*\"mix\" + 0.007*\"book\" + 0.007*\"pinn\" + 0.006*\"textbf\" + '\n",
      "  '0.006*\"concaten\" + 0.006*\"mathemat\" + 0.006*\"tod\" + 0.005*\"misinform\" + '\n",
      "  '0.005*\"licen\" + 0.005*\"bell_whistl\"'),\n",
      " (8,\n",
      "  '0.023*\"rnn\" + 0.019*\"recurr\" + 0.013*\"redund\" + 0.008*\"dp\" + '\n",
      "  '0.007*\"absolut\" + 0.007*\"obtain\" + 0.007*\"deliv\" + 0.006*\"lane\" + '\n",
      "  '0.006*\"bone\" + 0.006*\"vc\"'),\n",
      " (25,\n",
      "  '0.029*\"emot\" + 0.009*\"inspect\" + 0.009*\"hash\" + 0.006*\"request\" + '\n",
      "  '0.006*\"homolog\" + 0.006*\"analyz\" + 0.005*\"lda\" + 0.005*\"di\" + '\n",
      "  '0.005*\"deepfak\" + 0.005*\"multiview\"'),\n",
      " (9,\n",
      "  '0.012*\"independ\" + 0.009*\"dg\" + 0.008*\"temperatur\" + 0.008*\"probe\" + '\n",
      "  '0.005*\"homographi\" + 0.005*\"flight\" + 0.005*\"chip\" + 0.005*\"resist\" + '\n",
      "  '0.005*\"cut\" + 0.005*\"wikidata\"'),\n",
      " (16,\n",
      "  '0.010*\"sampler\" + 0.009*\"celeba\" + 0.008*\"bo\" + 0.008*\"markov_chain\" + '\n",
      "  '0.007*\"har\" + 0.005*\"detr\" + 0.005*\"tupl\" + 0.004*\"vessel\" + 0.004*\"pnp\" + '\n",
      "  '0.004*\"eigenvalu\"'),\n",
      " (24,\n",
      "  '0.018*\"sr\" + 0.015*\"lesion\" + 0.011*\"denois\" + 0.008*\"po\" + 0.007*\"bound\" + '\n",
      "  '0.006*\"shadow\" + 0.006*\"lr\" + 0.006*\"hr\" + 0.005*\"nmt\" + 0.004*\"chemistri\"')]\n",
      "[(5,\n",
      "  '0.017*\"ssl\" + 0.009*\"beta\" + 0.008*\"subword\" + 0.007*\"sport\" + 0.007*\"har\" '\n",
      "  '+ 0.006*\"satellit\" + 0.006*\"nowaday\" + 0.006*\"vl\" + 0.005*\"tupl\" + '\n",
      "  '0.004*\"terminolog\"'),\n",
      " (14,\n",
      "  '0.039*\"diffus\" + 0.016*\"road\" + 0.014*\"na\" + 0.009*\"cam\" + 0.009*\"mlp\" + '\n",
      "  '0.009*\"pde\" + 0.008*\"memori_footprint\" + 0.007*\"mdp\" + 0.006*\"lane\" + '\n",
      "  '0.006*\"figur\"'),\n",
      " (1,\n",
      "  '0.018*\"tracker\" + 0.014*\"lesion\" + 0.013*\"anim\" + 0.012*\"keyword\" + '\n",
      "  '0.011*\"tabl\" + 0.011*\"mot\" + 0.010*\"maxim\" + 0.008*\"hoi\" + 0.008*\"track\" + '\n",
      "  '0.007*\"relu\"'),\n",
      " (19,\n",
      "  '0.018*\"ontolog\" + 0.012*\"slot\" + 0.008*\"cd\" + 0.008*\"pinn\" + 0.006*\"iqa\" + '\n",
      "  '0.006*\"incept\" + 0.005*\"hypergraph\" + 0.005*\"wsss\" + 0.004*\"zero\" + '\n",
      "  '0.004*\"sg\"'),\n",
      " (0,\n",
      "  '0.019*\"view\" + 0.017*\"fusion\" + 0.015*\"rank\" + 0.013*\"tensor\" + '\n",
      "  '0.013*\"rotat\" + 0.012*\"descriptor\" + 0.012*\"decomposit\" + 0.010*\"translat\" '\n",
      "  '+ 0.009*\"traffic\" + 0.008*\"dens\"'),\n",
      " (22,\n",
      "  '0.026*\"summar\" + 0.016*\"summari\" + 0.013*\"ner\" + 0.011*\"tweet\" + '\n",
      "  '0.011*\"worker\" + 0.010*\"custom\" + 0.010*\"comment\" + 0.008*\"softmax\" + '\n",
      "  '0.008*\"paint\" + 0.008*\"capsul\"'),\n",
      " (17,\n",
      "  '0.011*\"slam\" + 0.009*\"cooper\" + 0.009*\"cloth\" + 0.007*\"ranker\" + '\n",
      "  '0.006*\"gamma\" + 0.006*\"dml\" + 0.006*\"bird\" + 0.005*\"wikidata\" + 0.005*\"ten\" '\n",
      "  '+ 0.005*\"cad\"'),\n",
      " (15,\n",
      "  '0.010*\"kb\" + 0.010*\"backdoor_attack\" + 0.009*\"eeg\" + 0.006*\"es\" + '\n",
      "  '0.006*\"misinform\" + 0.006*\"heurist\" + 0.006*\"cp\" + 0.005*\"alpha\" + '\n",
      "  '0.005*\"forgeri\" + 0.004*\"vo\"'),\n",
      " (7,\n",
      "  '0.010*\"blur\" + 0.009*\"logic\" + 0.007*\"log_likelihood\" + 0.007*\"galleri\" + '\n",
      "  '0.006*\"isomorph\" + 0.006*\"macro\" + 0.006*\"squad\" + 0.003*\"wl\" + 0.003*\"dan\" '\n",
      "  '+ 0.003*\"rec\"'),\n",
      " (20,\n",
      "  '0.019*\"quantum\" + 0.013*\"mix\" + 0.007*\"quantum_circuit\" + 0.006*\"pronunci\" '\n",
      "  '+ 0.005*\"mpc\" + 0.005*\"victim\" + 0.005*\"disturb\" + 0.005*\"beat\" + '\n",
      "  '0.005*\"replic\" + 0.005*\"origin\"'),\n",
      " (16,\n",
      "  '0.007*\"co_occurr\" + 0.006*\"radio\" + 0.005*\"scannet\" + 0.005*\"workstat\" + '\n",
      "  '0.004*\"fractur\" + 0.004*\"fix\" + 0.004*\"spam\" + 0.004*\"adult\" + 0.003*\"et\" + '\n",
      "  '0.003*\"slr\"'),\n",
      " (6,\n",
      "  '0.019*\"music\" + 0.014*\"correspond\" + 0.012*\"registr\" + 0.012*\"kg\" + '\n",
      "  '0.011*\"mri\" + 0.010*\"ray\" + 0.010*\"plane\" + 0.010*\"audio\" + 0.010*\"dl\" + '\n",
      "  '0.009*\"diagnosi\"'),\n",
      " (18,\n",
      "  '0.013*\"covid\" + 0.007*\"root\" + 0.007*\"celeba\" + 0.007*\"bone\" + '\n",
      "  '0.007*\"doctor\" + 0.006*\"membership\" + 0.006*\"water\" + 0.006*\"symptom\" + '\n",
      "  '0.005*\"retinanet\" + 0.004*\"logit\"'),\n",
      " (21,\n",
      "  '0.021*\"sketch\" + 0.009*\"job\" + 0.008*\"atom\" + 0.007*\"draw\" + 0.006*\"glass\" '\n",
      "  '+ 0.006*\"disagr\" + 0.006*\"grasp\" + 0.005*\"repair\" + 0.005*\"keystrok\" + '\n",
      "  '0.004*\"punctuat\"'),\n",
      " (2,\n",
      "  '0.011*\"brain_tumor\" + 0.010*\"tumor\" + 0.009*\"site\" + 0.008*\"da\" + '\n",
      "  '0.006*\"brat\" + 0.005*\"emb\" + 0.005*\"era\" + 0.005*\"placement\" + '\n",
      "  '0.005*\"cardin\" + 0.004*\"substitut\"'),\n",
      " (27,\n",
      "  '0.018*\"actor\" + 0.012*\"emerg\" + 0.010*\"discour\" + 0.008*\"return\" + '\n",
      "  '0.008*\"fingerprint\" + 0.007*\"radar\" + 0.007*\"subgroup\" + 0.006*\"bound\" + '\n",
      "  '0.006*\"sar\" + 0.006*\"ib\"'),\n",
      " (28,\n",
      "  '0.012*\"keypoint\" + 0.011*\"learner\" + 0.011*\"dialog\" + 0.011*\"conver\" + '\n",
      "  '0.010*\"complet\" + 0.009*\"fashion\" + 0.009*\"rnn\" + 0.008*\"plan\" + '\n",
      "  '0.008*\"photo\" + 0.007*\"layout\"'),\n",
      " (23,\n",
      "  '0.013*\"equilibrium\" + 0.009*\"extrapol\" + 0.008*\"driver\" + '\n",
      "  '0.007*\"hypernetwork\" + 0.007*\"spectrogram\" + 0.006*\"gender_bia\" + '\n",
      "  '0.006*\"concaten\" + 0.005*\"roi\" + 0.005*\"stock\" + 0.005*\"volatil\"'),\n",
      " (12,\n",
      "  '0.014*\"surrog\" + 0.009*\"dg\" + 0.008*\"ad_hoc\" + 0.008*\"schema\" + '\n",
      "  '0.008*\"compen\" + 0.007*\"db\" + 0.006*\"codec\" + 0.006*\"styliz\" + 0.006*\"sod\" '\n",
      "  '+ 0.006*\"cour\"'),\n",
      " (26,\n",
      "  '0.012*\"mt\" + 0.008*\"moder\" + 0.007*\"minima\" + 0.007*\"homolog\" + '\n",
      "  '0.007*\"quadratur\" + 0.006*\"pca\" + 0.005*\"chemistri\" + 0.005*\"eigenvector\" + '\n",
      "  '0.005*\"abus\" + 0.005*\"workshop\"')]\n"
     ]
    }
   ],
   "source": [
    "# Print the Keyword in the 10 topics\n",
    "for model in models:\n",
    "    pprint(model.print_topics(num_words=n_top_words))\n",
    "# doc_lda = lda_model[corpus]"
   ],
   "metadata": {
    "collapsed": false,
    "pycharm": {
     "name": "#%%\n"
    }
   }
  },
  {
   "cell_type": "markdown",
   "source": [
    "# UMASS"
   ],
   "metadata": {
    "collapsed": false,
    "pycharm": {
     "name": "#%% md\n"
    }
   }
  },
  {
   "cell_type": "code",
   "execution_count": 29,
   "outputs": [
    {
     "data": {
      "text/plain": "<Figure size 640x480 with 1 Axes>",
      "image/png": "[encoded data removed]"
     },
     "metadata": {},
     "output_type": "display_data"
    }
   ],
   "source": [
    "import numpy as np\n",
    "from gensim.models import CoherenceModel\n",
    "import matplotlib.pyplot as plt\n",
    "measures = []\n",
    "\n",
    "u_mass_value = []\n",
    "for i, model in enumerate(models):\n",
    "    # Compute Coherence Score\n",
    "    coherence_model_lda = CoherenceModel(model=model, texts=data_lemmatized, dictionary=id2word, coherence='u_mass')\n",
    "    coherence_lda = coherence_model_lda.get_coherence()\n",
    "    u_mass_value.append(coherence_lda)\n",
    "    measures.append([])\n",
    "    measures[i].append(coherence_lda)\n",
    "\n",
    "plt.figure()\n",
    "plt.plot(n_topics, np.array(u_mass_value), label=\"UMASS\")\n",
    "for i in range(len(n_topics)):\n",
    "    plt.text(n_topics[i], u_mass_value[i], str(u_mass_value[i])[:7], ha='center', va='bottom')\n",
    "plt.xticks(n_topics)\n",
    "plt.title('UMASS')\n",
    "plt.legend()\n",
    "plt.show()"
   ],
   "metadata": {
    "collapsed": false,
    "pycharm": {
     "name": "#%%\n"
    }
   }
  },
  {
   "cell_type": "markdown",
   "source": [
    "# NPMI"
   ],
   "metadata": {
    "collapsed": false,
    "pycharm": {
     "name": "#%% md\n"
    }
   }
  },
  {
   "cell_type": "code",
   "execution_count": 30,
   "outputs": [
    {
     "data": {
      "text/plain": "<Figure size 640x480 with 1 Axes>",
      "image/png": "[encoded data removed]"
     },
     "metadata": {},
     "output_type": "display_data"
    }
   ],
   "source": [
    "import numpy as np\n",
    "from gensim.models import CoherenceModel\n",
    "import matplotlib.pyplot as plt\n",
    "\n",
    "u_npmi_value = []\n",
    "for i, model in enumerate(models):\n",
    "    # Compute Coherence Score\n",
    "    coherence_model_lda = CoherenceModel(model=model, texts=data_lemmatized, dictionary=id2word, coherence='c_npmi')\n",
    "    coherence_lda = coherence_model_lda.get_coherence()\n",
    "    u_npmi_value.append(coherence_lda)\n",
    "    measures[i].append(coherence_lda)\n",
    "\n",
    "plt.figure()\n",
    "plt.plot(n_topics, np.array(u_npmi_value), label=\"NPMI\")\n",
    "for i in range(len(n_topics)):\n",
    "    plt.text(n_topics[i], u_npmi_value[i], str(u_npmi_value[i])[:7], ha='center', va='bottom')\n",
    "plt.xticks(n_topics)\n",
    "plt.title('NPMI')\n",
    "plt.legend()\n",
    "plt.show()"
   ],
   "metadata": {
    "collapsed": false,
    "pycharm": {
     "name": "#%%\n"
    }
   }
  },
  {
   "cell_type": "markdown",
   "source": [
    "# Coherence Value"
   ],
   "metadata": {
    "collapsed": false,
    "pycharm": {
     "name": "#%% md\n"
    }
   }
  },
  {
   "cell_type": "code",
   "execution_count": 32,
   "outputs": [
    {
     "data": {
      "text/plain": "<Figure size 640x480 with 1 Axes>",
      "image/png": "[encoded data removed]"
     },
     "metadata": {},
     "output_type": "display_data"
    }
   ],
   "source": [
    "import numpy as np\n",
    "from gensim.models import CoherenceModel\n",
    "import matplotlib.pyplot as plt\n",
    "\n",
    "coherence_value = []\n",
    "for i, model in enumerate(models):\n",
    "    # Compute Coherence Score\n",
    "    coherence_model_lda = CoherenceModel(model=model, texts=data_lemmatized, dictionary=id2word, coherence='c_v')\n",
    "    coherence_lda = coherence_model_lda.get_coherence()\n",
    "    coherence_value.append(coherence_lda)\n",
    "    measures[i].append(coherence_lda)\n",
    "\n",
    "plt.figure()\n",
    "plt.plot(n_topics, np.array(coherence_value), label=\"Topic Coherence\")\n",
    "for i in range(len(n_topics)):\n",
    "    plt.text(n_topics[i], coherence_value[i], str(coherence_value[i])[:7], ha='center', va='bottom')\n",
    "plt.xticks(n_topics)\n",
    "plt.title('Topic Coherence')\n",
    "plt.legend()\n",
    "plt.show()"
   ],
   "metadata": {
    "collapsed": false,
    "pycharm": {
     "name": "#%%\n"
    }
   }
  },
  {
   "cell_type": "code",
   "execution_count": 33,
   "outputs": [
    {
     "data": {
      "text/plain": "       UMASS      NPMI  Topic Coherence\n0 -18.166440 -0.374160         0.677004\n1 -18.119994 -0.379379         0.651807\n2 -18.244901 -0.369283         0.657855\n3 -18.545917 -0.371398         0.660376",
      "text/html": "<div>\n<style scoped>\n    .dataframe tbody tr th:only-of-type {\n        vertical-align: middle;\n    }\n\n    .dataframe tbody tr th {\n        vertical-align: top;\n    }\n\n    .dataframe thead th {\n        text-align: right;\n    }\n</style>\n<table border=\"1\" class=\"dataframe\">\n  <thead>\n    <tr style=\"text-align: right;\">\n      <th></th>\n      <th>UMASS</th>\n      <th>NPMI</th>\n      <th>Topic Coherence</th>\n    </tr>\n  </thead>\n  <tbody>\n    <tr>\n      <th>0</th>\n      <td>-18.166440</td>\n      <td>-0.374160</td>\n      <td>0.677004</td>\n    </tr>\n    <tr>\n      <th>1</th>\n      <td>-18.119994</td>\n      <td>-0.379379</td>\n      <td>0.651807</td>\n    </tr>\n    <tr>\n      <th>2</th>\n      <td>-18.244901</td>\n      <td>-0.369283</td>\n      <td>0.657855</td>\n    </tr>\n    <tr>\n      <th>3</th>\n      <td>-18.545917</td>\n      <td>-0.371398</td>\n      <td>0.660376</td>\n    </tr>\n  </tbody>\n</table>\n</div>"
     },
     "execution_count": 33,
     "metadata": {},
     "output_type": "execute_result"
    }
   ],
   "source": [
    "import pandas as pd\n",
    "\n",
    "performance = pd.DataFrame(measures, columns=['UMASS', 'NPMI', \"Topic Coherence\"])\n",
    "performance"
   ],
   "metadata": {
    "collapsed": false,
    "pycharm": {
     "name": "#%%\n"
    }
   }
  }
 ],
 "metadata": {
  "kernelspec": {
   "display_name": "Python 3",
   "language": "python",
   "name": "python3"
  },
  "language_info": {
   "codemirror_mode": {
    "name": "ipython",
    "version": 2
   },
   "file_extension": ".py",
   "mimetype": "text/x-python",
   "name": "python",
   "nbconvert_exporter": "python",
   "pygments_lexer": "ipython2",
   "version": "2.7.6"
  }
 },
 "nbformat": 4,
 "nbformat_minor": 0
}